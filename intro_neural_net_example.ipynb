{
 "cells": [
  {
   "cell_type": "code",
   "execution_count": 1,
   "metadata": {},
   "outputs": [],
   "source": [
    "# Import our dependencies\n",
    "import pandas as pd\n",
    "import matplotlib as plt\n",
    "from sklearn.datasets import make_blobs\n",
    "import sklearn as skl\n",
    "import tensorflow as tf"
   ]
  },
  {
   "cell_type": "code",
   "execution_count": 2,
   "metadata": {},
   "outputs": [
    {
     "data": {
      "text/plain": [
       "<AxesSubplot:xlabel='Feature 1', ylabel='Feature 2'>"
      ]
     },
     "execution_count": 2,
     "metadata": {},
     "output_type": "execute_result"
    },
    {
     "data": {
      "image/png": "[encoded data removed]",
      "text/plain": [
       "<Figure size 432x288 with 2 Axes>"
      ]
     },
     "metadata": {
      "needs_background": "light"
     },
     "output_type": "display_data"
    }
   ],
   "source": [
    "# Generate dummy dataset\n",
    "X, y = make_blobs(n_samples=1000, centers=2, n_features=2, random_state=78)\n",
    "\n",
    "# Creating a DataFrame with the dummy data\n",
    "df = pd.DataFrame(X, columns=[\"Feature 1\", \"Feature 2\"])\n",
    "df[\"Target\"] = y\n",
    "\n",
    "# Plotting the dummy data\n",
    "df.plot.scatter(x=\"Feature 1\", y=\"Feature 2\", c=\"Target\", colormap=\"winter\")"
   ]
  },
  {
   "cell_type": "code",
   "execution_count": 3,
   "metadata": {},
   "outputs": [],
   "source": [
    "# Use sklearn to split dataset\n",
    "from sklearn.model_selection import train_test_split\n",
    "X_train, X_test, y_train, y_test = train_test_split(X, y, random_state=78)"
   ]
  },
  {
   "cell_type": "code",
   "execution_count": 4,
   "metadata": {},
   "outputs": [],
   "source": [
    "# Create scaler instance\n",
    "X_scaler = skl.preprocessing.StandardScaler()\n",
    "\n",
    "# Fit the scaler\n",
    "X_scaler.fit(X_train)\n",
    "\n",
    "# Scale the data\n",
    "X_train_scaled = X_scaler.transform(X_train)\n",
    "X_test_scaled = X_scaler.transform(X_test)"
   ]
  },
  {
   "cell_type": "code",
   "execution_count": 5,
   "metadata": {},
   "outputs": [],
   "source": [
    "# Create the Keras Sequential model\n",
    "nn_model = tf.keras.models.Sequential()"
   ]
  },
  {
   "cell_type": "code",
   "execution_count": 6,
   "metadata": {},
   "outputs": [],
   "source": [
    "# Add our first Dense layer, including the input layer\n",
    "nn_model.add(tf.keras.layers.Dense(units=1, activation=\"relu\", input_dim=2))"
   ]
  },
  {
   "cell_type": "code",
   "execution_count": 7,
   "metadata": {},
   "outputs": [],
   "source": [
    "# Add the output layer that uses a probability activation function\n",
    "nn_model.add(tf.keras.layers.Dense(units=1, activation=\"sigmoid\"))"
   ]
  },
  {
   "cell_type": "code",
   "execution_count": 8,
   "metadata": {},
   "outputs": [
    {
     "name": "stdout",
     "output_type": "stream",
     "text": [
      "Model: \"sequential\"\n",
      "_________________________________________________________________\n",
      "Layer (type)                 Output Shape              Param #   \n",
      "=================================================================\n",
      "dense (Dense)                (None, 1)                 3         \n",
      "_________________________________________________________________\n",
      "dense_1 (Dense)              (None, 1)                 2         \n",
      "=================================================================\n",
      "Total params: 5\n",
      "Trainable params: 5\n",
      "Non-trainable params: 0\n",
      "_________________________________________________________________\n"
     ]
    }
   ],
   "source": [
    "# Check the structure of the Sequential model\n",
    "nn_model.summary()"
   ]
  },
  {
   "cell_type": "code",
   "execution_count": 9,
   "metadata": {},
   "outputs": [],
   "source": [
    "# Compile the Sequential model together and customize metrics\n",
    "nn_model.compile(loss=\"binary_crossentropy\", optimizer=\"adam\", metrics=[\"accuracy\"])"
   ]
  },
  {
   "cell_type": "code",
   "execution_count": 10,
   "metadata": {},
   "outputs": [
    {
     "name": "stdout",
     "output_type": "stream",
     "text": [
      "Train on 750 samples\n",
      "Epoch 1/100\n",
      "750/750 [==============================] - 1s 1ms/sample - loss: 0.6961 - accuracy: 0.4693\n",
      "Epoch 2/100\n",
      "750/750 [==============================] - 0s 71us/sample - loss: 0.6939 - accuracy: 0.4893\n",
      "Epoch 3/100\n",
      "750/750 [==============================] - 0s 69us/sample - loss: 0.6920 - accuracy: 0.5293\n",
      "Epoch 4/100\n",
      "750/750 [==============================] - 0s 69us/sample - loss: 0.6899 - accuracy: 0.5813\n",
      "Epoch 5/100\n",
      "750/750 [==============================] - 0s 79us/sample - loss: 0.6872 - accuracy: 0.6560\n",
      "Epoch 6/100\n",
      "750/750 [==============================] - 0s 72us/sample - loss: 0.6829 - accuracy: 0.7173\n",
      "Epoch 7/100\n",
      "750/750 [==============================] - 0s 70us/sample - loss: 0.6763 - accuracy: 0.7907\n",
      "Epoch 8/100\n",
      "750/750 [==============================] - 0s 69us/sample - loss: 0.6665 - accuracy: 0.8387\n",
      "Epoch 9/100\n",
      "750/750 [==============================] - 0s 69us/sample - loss: 0.6537 - accuracy: 0.8880\n",
      "Epoch 10/100\n",
      "750/750 [==============================] - 0s 73us/sample - loss: 0.6386 - accuracy: 0.9347\n",
      "Epoch 11/100\n",
      "750/750 [==============================] - 0s 69us/sample - loss: 0.6222 - accuracy: 0.9613\n",
      "Epoch 12/100\n",
      "750/750 [==============================] - 0s 70us/sample - loss: 0.6052 - accuracy: 0.9787\n",
      "Epoch 13/100\n",
      "750/750 [==============================] - 0s 69us/sample - loss: 0.5875 - accuracy: 0.9933\n",
      "Epoch 14/100\n",
      "750/750 [==============================] - 0s 67us/sample - loss: 0.5695 - accuracy: 0.9973\n",
      "Epoch 15/100\n",
      "750/750 [==============================] - 0s 72us/sample - loss: 0.5517 - accuracy: 1.0000\n",
      "Epoch 16/100\n",
      "750/750 [==============================] - 0s 70us/sample - loss: 0.5339 - accuracy: 1.0000\n",
      "Epoch 17/100\n",
      "750/750 [==============================] - 0s 67us/sample - loss: 0.5161 - accuracy: 1.0000\n",
      "Epoch 18/100\n",
      "750/750 [==============================] - 0s 68us/sample - loss: 0.4986 - accuracy: 1.0000\n",
      "Epoch 19/100\n",
      "750/750 [==============================] - 0s 69us/sample - loss: 0.4815 - accuracy: 1.0000\n",
      "Epoch 20/100\n",
      "750/750 [==============================] - 0s 68us/sample - loss: 0.4648 - accuracy: 1.0000\n",
      "Epoch 21/100\n",
      "750/750 [==============================] - 0s 69us/sample - loss: 0.4486 - accuracy: 1.0000\n",
      "Epoch 22/100\n",
      "750/750 [==============================] - 0s 91us/sample - loss: 0.4330 - accuracy: 1.0000\n",
      "Epoch 23/100\n",
      "750/750 [==============================] - 0s 70us/sample - loss: 0.4179 - accuracy: 1.0000\n",
      "Epoch 24/100\n",
      "750/750 [==============================] - 0s 71us/sample - loss: 0.4035 - accuracy: 1.0000\n",
      "Epoch 25/100\n",
      "750/750 [==============================] - 0s 70us/sample - loss: 0.3897 - accuracy: 1.0000\n",
      "Epoch 26/100\n",
      "750/750 [==============================] - 0s 69us/sample - loss: 0.3765 - accuracy: 1.0000\n",
      "Epoch 27/100\n",
      "750/750 [==============================] - 0s 68us/sample - loss: 0.3640 - accuracy: 1.0000\n",
      "Epoch 28/100\n",
      "750/750 [==============================] - 0s 72us/sample - loss: 0.3520 - accuracy: 1.0000\n",
      "Epoch 29/100\n",
      "750/750 [==============================] - 0s 67us/sample - loss: 0.3406 - accuracy: 1.0000\n",
      "Epoch 30/100\n",
      "750/750 [==============================] - 0s 68us/sample - loss: 0.3298 - accuracy: 1.0000\n",
      "Epoch 31/100\n",
      "750/750 [==============================] - 0s 70us/sample - loss: 0.3195 - accuracy: 1.0000\n",
      "Epoch 32/100\n",
      "750/750 [==============================] - 0s 68us/sample - loss: 0.3097 - accuracy: 1.0000\n",
      "Epoch 33/100\n",
      "750/750 [==============================] - 0s 68us/sample - loss: 0.3004 - accuracy: 1.0000\n",
      "Epoch 34/100\n",
      "750/750 [==============================] - 0s 68us/sample - loss: 0.2915 - accuracy: 1.0000\n",
      "Epoch 35/100\n",
      "750/750 [==============================] - 0s 70us/sample - loss: 0.2831 - accuracy: 1.0000\n",
      "Epoch 36/100\n",
      "750/750 [==============================] - 0s 70us/sample - loss: 0.2750 - accuracy: 1.0000\n",
      "Epoch 37/100\n",
      "750/750 [==============================] - 0s 70us/sample - loss: 0.2674 - accuracy: 1.0000\n",
      "Epoch 38/100\n",
      "750/750 [==============================] - 0s 71us/sample - loss: 0.2600 - accuracy: 1.0000\n",
      "Epoch 39/100\n",
      "750/750 [==============================] - 0s 66us/sample - loss: 0.2530 - accuracy: 1.0000\n",
      "Epoch 40/100\n",
      "750/750 [==============================] - 0s 68us/sample - loss: 0.2463 - accuracy: 1.0000\n",
      "Epoch 41/100\n",
      "750/750 [==============================] - 0s 69us/sample - loss: 0.2399 - accuracy: 1.0000\n",
      "Epoch 42/100\n",
      "750/750 [==============================] - 0s 73us/sample - loss: 0.2338 - accuracy: 1.0000\n",
      "Epoch 43/100\n",
      "750/750 [==============================] - 0s 70us/sample - loss: 0.2279 - accuracy: 1.0000\n",
      "Epoch 44/100\n",
      "750/750 [==============================] - 0s 73us/sample - loss: 0.2222 - accuracy: 1.0000\n",
      "Epoch 45/100\n",
      "750/750 [==============================] - 0s 80us/sample - loss: 0.2168 - accuracy: 1.0000\n",
      "Epoch 46/100\n",
      "750/750 [==============================] - 0s 94us/sample - loss: 0.2116 - accuracy: 1.0000\n",
      "Epoch 47/100\n",
      "750/750 [==============================] - 0s 97us/sample - loss: 0.2066 - accuracy: 1.0000\n",
      "Epoch 48/100\n",
      "750/750 [==============================] - 0s 96us/sample - loss: 0.2017 - accuracy: 1.0000\n",
      "Epoch 49/100\n",
      "750/750 [==============================] - 0s 96us/sample - loss: 0.1971 - accuracy: 1.0000\n",
      "Epoch 50/100\n",
      "750/750 [==============================] - 0s 97us/sample - loss: 0.1926 - accuracy: 1.0000\n",
      "Epoch 51/100\n",
      "750/750 [==============================] - 0s 92us/sample - loss: 0.1883 - accuracy: 1.0000\n",
      "Epoch 52/100\n",
      "750/750 [==============================] - 0s 67us/sample - loss: 0.1841 - accuracy: 1.0000\n",
      "Epoch 53/100\n",
      "750/750 [==============================] - 0s 83us/sample - loss: 0.1801 - accuracy: 1.0000\n",
      "Epoch 54/100\n",
      "750/750 [==============================] - 0s 64us/sample - loss: 0.1762 - accuracy: 1.0000\n",
      "Epoch 55/100\n",
      "750/750 [==============================] - 0s 63us/sample - loss: 0.1724 - accuracy: 1.0000\n",
      "Epoch 56/100\n",
      "750/750 [==============================] - 0s 62us/sample - loss: 0.1688 - accuracy: 1.0000\n",
      "Epoch 57/100\n",
      "750/750 [==============================] - 0s 63us/sample - loss: 0.1652 - accuracy: 1.0000\n",
      "Epoch 58/100\n",
      "750/750 [==============================] - 0s 77us/sample - loss: 0.1618 - accuracy: 1.0000\n",
      "Epoch 59/100\n",
      "750/750 [==============================] - 0s 69us/sample - loss: 0.1585 - accuracy: 1.0000\n",
      "Epoch 60/100\n",
      "750/750 [==============================] - 0s 64us/sample - loss: 0.1553 - accuracy: 1.0000\n",
      "Epoch 61/100\n",
      "750/750 [==============================] - 0s 64us/sample - loss: 0.1522 - accuracy: 1.0000\n",
      "Epoch 62/100\n",
      "750/750 [==============================] - 0s 64us/sample - loss: 0.1492 - accuracy: 1.0000\n",
      "Epoch 63/100\n",
      "750/750 [==============================] - 0s 63us/sample - loss: 0.1463 - accuracy: 1.0000\n",
      "Epoch 64/100\n",
      "750/750 [==============================] - 0s 64us/sample - loss: 0.1434 - accuracy: 1.0000\n",
      "Epoch 65/100\n",
      "750/750 [==============================] - 0s 63us/sample - loss: 0.1407 - accuracy: 1.0000\n",
      "Epoch 66/100\n",
      "750/750 [==============================] - 0s 63us/sample - loss: 0.1380 - accuracy: 1.0000\n",
      "Epoch 67/100\n",
      "750/750 [==============================] - 0s 71us/sample - loss: 0.1354 - accuracy: 1.0000\n",
      "Epoch 68/100\n",
      "750/750 [==============================] - 0s 69us/sample - loss: 0.1328 - accuracy: 1.0000\n",
      "Epoch 69/100\n",
      "750/750 [==============================] - 0s 67us/sample - loss: 0.1304 - accuracy: 1.0000\n",
      "Epoch 70/100\n",
      "750/750 [==============================] - 0s 71us/sample - loss: 0.1280 - accuracy: 1.0000\n",
      "Epoch 71/100\n",
      "750/750 [==============================] - 0s 67us/sample - loss: 0.1257 - accuracy: 1.0000\n",
      "Epoch 72/100\n",
      "750/750 [==============================] - 0s 67us/sample - loss: 0.1234 - accuracy: 1.0000\n",
      "Epoch 73/100\n",
      "750/750 [==============================] - 0s 67us/sample - loss: 0.1212 - accuracy: 1.0000\n",
      "Epoch 74/100\n",
      "750/750 [==============================] - 0s 67us/sample - loss: 0.1190 - accuracy: 1.0000\n",
      "Epoch 75/100\n",
      "750/750 [==============================] - 0s 67us/sample - loss: 0.1169 - accuracy: 1.0000\n",
      "Epoch 76/100\n",
      "750/750 [==============================] - 0s 71us/sample - loss: 0.1148 - accuracy: 1.0000\n",
      "Epoch 77/100\n",
      "750/750 [==============================] - 0s 66us/sample - loss: 0.1128 - accuracy: 1.0000\n",
      "Epoch 78/100\n"
     ]
    },
    {
     "name": "stdout",
     "output_type": "stream",
     "text": [
      "750/750 [==============================] - 0s 65us/sample - loss: 0.1109 - accuracy: 1.0000\n",
      "Epoch 79/100\n",
      "750/750 [==============================] - 0s 79us/sample - loss: 0.1090 - accuracy: 1.0000\n",
      "Epoch 80/100\n",
      "750/750 [==============================] - 0s 66us/sample - loss: 0.1071 - accuracy: 1.0000\n",
      "Epoch 81/100\n",
      "750/750 [==============================] - 0s 64us/sample - loss: 0.1053 - accuracy: 1.0000\n",
      "Epoch 82/100\n",
      "750/750 [==============================] - 0s 64us/sample - loss: 0.1035 - accuracy: 1.0000\n",
      "Epoch 83/100\n",
      "750/750 [==============================] - 0s 65us/sample - loss: 0.1018 - accuracy: 1.0000\n",
      "Epoch 84/100\n",
      "750/750 [==============================] - 0s 67us/sample - loss: 0.1001 - accuracy: 1.0000\n",
      "Epoch 85/100\n",
      "750/750 [==============================] - 0s 65us/sample - loss: 0.0985 - accuracy: 1.0000\n",
      "Epoch 86/100\n",
      "750/750 [==============================] - 0s 65us/sample - loss: 0.0969 - accuracy: 1.0000\n",
      "Epoch 87/100\n",
      "750/750 [==============================] - 0s 62us/sample - loss: 0.0953 - accuracy: 1.0000\n",
      "Epoch 88/100\n",
      "750/750 [==============================] - 0s 63us/sample - loss: 0.0937 - accuracy: 1.0000\n",
      "Epoch 89/100\n",
      "750/750 [==============================] - 0s 61us/sample - loss: 0.0922 - accuracy: 1.0000\n",
      "Epoch 90/100\n",
      "750/750 [==============================] - 0s 64us/sample - loss: 0.0907 - accuracy: 1.0000\n",
      "Epoch 91/100\n",
      "750/750 [==============================] - 0s 72us/sample - loss: 0.0893 - accuracy: 1.0000\n",
      "Epoch 92/100\n",
      "750/750 [==============================] - 0s 68us/sample - loss: 0.0879 - accuracy: 1.0000\n",
      "Epoch 93/100\n",
      "750/750 [==============================] - 0s 68us/sample - loss: 0.0865 - accuracy: 1.0000\n",
      "Epoch 94/100\n",
      "750/750 [==============================] - 0s 66us/sample - loss: 0.0851 - accuracy: 1.0000\n",
      "Epoch 95/100\n",
      "750/750 [==============================] - 0s 65us/sample - loss: 0.0838 - accuracy: 1.0000\n",
      "Epoch 96/100\n",
      "750/750 [==============================] - 0s 65us/sample - loss: 0.0825 - accuracy: 1.0000\n",
      "Epoch 97/100\n",
      "750/750 [==============================] - 0s 66us/sample - loss: 0.0812 - accuracy: 1.0000\n",
      "Epoch 98/100\n",
      "750/750 [==============================] - 0s 66us/sample - loss: 0.0800 - accuracy: 1.0000\n",
      "Epoch 99/100\n",
      "750/750 [==============================] - 0s 64us/sample - loss: 0.0788 - accuracy: 1.0000\n",
      "Epoch 100/100\n",
      "750/750 [==============================] - 0s 68us/sample - loss: 0.0776 - accuracy: 1.0000\n"
     ]
    }
   ],
   "source": [
    "# Fit the model to the training data\n",
    "fit_model = nn_model.fit(X_train_scaled, y_train, epochs=100)"
   ]
  },
  {
   "cell_type": "code",
   "execution_count": 11,
   "metadata": {},
   "outputs": [
    {
     "data": {
      "text/plain": [
       "<AxesSubplot:>"
      ]
     },
     "execution_count": 11,
     "metadata": {},
     "output_type": "execute_result"
    },
    {
     "data": {
      "image/png": "[encoded data removed]",
      "text/plain": [
       "<Figure size 432x288 with 1 Axes>"
      ]
     },
     "metadata": {
      "needs_background": "light"
     },
     "output_type": "display_data"
    }
   ],
   "source": [
    "# Create a DataFrame containing training history\n",
    "history_df = pd.DataFrame(fit_model.history, index=range(1,len(fit_model.history[\"loss\"])+1))\n",
    "\n",
    "# Plot the loss\n",
    "history_df.plot(y=\"loss\")"
   ]
  },
  {
   "cell_type": "code",
   "execution_count": 12,
   "metadata": {},
   "outputs": [
    {
     "data": {
      "text/plain": [
       "<AxesSubplot:>"
      ]
     },
     "execution_count": 12,
     "metadata": {},
     "output_type": "execute_result"
    },
    {
     "data": {
      "image/png": "[encoded data removed]",
      "text/plain": [
       "<Figure size 432x288 with 1 Axes>"
      ]
     },
     "metadata": {
      "needs_background": "light"
     },
     "output_type": "display_data"
    }
   ],
   "source": [
    "# Plot the accuracy\n",
    "history_df.plot(y=\"accuracy\")"
   ]
  },
  {
   "cell_type": "code",
   "execution_count": 13,
   "metadata": {},
   "outputs": [
    {
     "name": "stdout",
     "output_type": "stream",
     "text": [
      "250/1 - 0s - loss: 0.0691 - accuracy: 1.0000\n",
      "Loss: 0.07933218544721603, Accuracy: 1.0\n"
     ]
    }
   ],
   "source": [
    "# Evaluate the model using the test data\n",
    "model_loss, model_accuracy = nn_model.evaluate(X_test_scaled,y_test,verbose=2)\n",
    "print(f\"Loss: {model_loss}, Accuracy: {model_accuracy}\")"
   ]
  },
  {
   "cell_type": "code",
   "execution_count": 14,
   "metadata": {},
   "outputs": [
    {
     "data": {
      "text/plain": [
       "array([[0],\n",
       "       [1],\n",
       "       [0],\n",
       "       [1],\n",
       "       [0],\n",
       "       [0],\n",
       "       [1],\n",
       "       [1],\n",
       "       [1],\n",
       "       [0]], dtype=int32)"
      ]
     },
     "execution_count": 14,
     "metadata": {},
     "output_type": "execute_result"
    }
   ],
   "source": [
    "# Predict the classification of a new set of blob data\n",
    "new_X, new_Y = make_blobs(n_samples=10, centers=2, n_features=2, random_state=78)\n",
    "new_X_scaled = X_scaler.transform(new_X)\n",
    "nn_model.predict_classes(new_X_scaled)"
   ]
  },
  {
   "cell_type": "code",
   "execution_count": 15,
   "metadata": {},
   "outputs": [
    {
     "data": {
      "text/plain": [
       "<AxesSubplot:xlabel='Feature 1', ylabel='Feature 2'>"
      ]
     },
     "execution_count": 15,
     "metadata": {},
     "output_type": "execute_result"
    },
    {
     "data": {
      "image/png": "[encoded data removed]",
      "text/plain": [
       "<Figure size 432x288 with 2 Axes>"
      ]
     },
     "metadata": {
      "needs_background": "light"
     },
     "output_type": "display_data"
    }
   ],
   "source": [
    "from sklearn.datasets import make_moons\n",
    "\n",
    "# Creating dummy nonlinear data\n",
    "X_moons, y_moons = make_moons(n_samples=1000, noise=0.08, random_state=78)\n",
    "\n",
    "# Transforming y_moons to a vertical vector\n",
    "y_moons = y_moons.reshape(-1, 1)\n",
    "\n",
    "# Creating a DataFrame to plot the nonlinear dummy data\n",
    "df_moons = pd.DataFrame(X_moons, columns=[\"Feature 1\", \"Feature 2\"])\n",
    "df_moons[\"Target\"] = y_moons\n",
    "\n",
    "# Plot the nonlinear dummy data\n",
    "df_moons.plot.scatter(x=\"Feature 1\",y=\"Feature 2\", c=\"Target\",colormap=\"winter\")"
   ]
  },
  {
   "cell_type": "code",
   "execution_count": 16,
   "metadata": {},
   "outputs": [],
   "source": [
    "# Create training and testing sets\n",
    "X_moon_train, X_moon_test, y_moon_train, y_moon_test = train_test_split(\n",
    "    X_moons, y_moons, random_state=78\n",
    ")\n",
    "\n",
    "# Create the scaler instance\n",
    "X_moon_scaler = skl.preprocessing.StandardScaler()\n",
    "\n",
    "# Fit the scaler\n",
    "X_moon_scaler.fit(X_moon_train)\n",
    "\n",
    "# Scale the data\n",
    "X_moon_train_scaled = X_moon_scaler.transform(X_moon_train)\n",
    "X_moon_test_scaled = X_moon_scaler.transform(X_moon_test)"
   ]
  },
  {
   "cell_type": "code",
   "execution_count": 17,
   "metadata": {},
   "outputs": [
    {
     "name": "stdout",
     "output_type": "stream",
     "text": [
      "Train on 750 samples\n",
      "Epoch 1/100\n",
      "750/750 [==============================] - 0s 125us/sample - loss: 0.8515 - accuracy: 0.5640\n",
      "Epoch 2/100\n",
      "750/750 [==============================] - 0s 73us/sample - loss: 0.7609 - accuracy: 0.5893\n",
      "Epoch 3/100\n",
      "750/750 [==============================] - 0s 78us/sample - loss: 0.6961 - accuracy: 0.6000\n",
      "Epoch 4/100\n",
      "750/750 [==============================] - 0s 77us/sample - loss: 0.6505 - accuracy: 0.6147\n",
      "Epoch 5/100\n",
      "750/750 [==============================] - 0s 72us/sample - loss: 0.6164 - accuracy: 0.6213\n",
      "Epoch 6/100\n",
      "750/750 [==============================] - 0s 72us/sample - loss: 0.5885 - accuracy: 0.6453\n",
      "Epoch 7/100\n",
      "750/750 [==============================] - 0s 75us/sample - loss: 0.5656 - accuracy: 0.6587\n",
      "Epoch 8/100\n",
      "750/750 [==============================] - 0s 74us/sample - loss: 0.5458 - accuracy: 0.6627\n",
      "Epoch 9/100\n",
      "750/750 [==============================] - 0s 79us/sample - loss: 0.5289 - accuracy: 0.6733\n",
      "Epoch 10/100\n",
      "750/750 [==============================] - 0s 72us/sample - loss: 0.5134 - accuracy: 0.6840\n",
      "Epoch 11/100\n",
      "750/750 [==============================] - 0s 70us/sample - loss: 0.4996 - accuracy: 0.6947\n",
      "Epoch 12/100\n",
      "750/750 [==============================] - 0s 81us/sample - loss: 0.4870 - accuracy: 0.7027\n",
      "Epoch 13/100\n",
      "750/750 [==============================] - 0s 68us/sample - loss: 0.4756 - accuracy: 0.7080\n",
      "Epoch 14/100\n",
      "750/750 [==============================] - 0s 70us/sample - loss: 0.4646 - accuracy: 0.7173\n",
      "Epoch 15/100\n",
      "750/750 [==============================] - 0s 71us/sample - loss: 0.4547 - accuracy: 0.7253\n",
      "Epoch 16/100\n",
      "750/750 [==============================] - 0s 78us/sample - loss: 0.4454 - accuracy: 0.7320\n",
      "Epoch 17/100\n",
      "750/750 [==============================] - 0s 72us/sample - loss: 0.4364 - accuracy: 0.7387\n",
      "Epoch 18/100\n",
      "750/750 [==============================] - 0s 71us/sample - loss: 0.4281 - accuracy: 0.7480\n",
      "Epoch 19/100\n",
      "750/750 [==============================] - 0s 70us/sample - loss: 0.4203 - accuracy: 0.7600\n",
      "Epoch 20/100\n",
      "750/750 [==============================] - 0s 77us/sample - loss: 0.4128 - accuracy: 0.7627\n",
      "Epoch 21/100\n",
      "750/750 [==============================] - 0s 73us/sample - loss: 0.4055 - accuracy: 0.7747\n",
      "Epoch 22/100\n",
      "750/750 [==============================] - 0s 78us/sample - loss: 0.3985 - accuracy: 0.7787\n",
      "Epoch 23/100\n",
      "750/750 [==============================] - 0s 69us/sample - loss: 0.3921 - accuracy: 0.7813\n",
      "Epoch 24/100\n",
      "750/750 [==============================] - 0s 73us/sample - loss: 0.3856 - accuracy: 0.7880\n",
      "Epoch 25/100\n",
      "750/750 [==============================] - 0s 69us/sample - loss: 0.3796 - accuracy: 0.7907\n",
      "Epoch 26/100\n",
      "750/750 [==============================] - 0s 80us/sample - loss: 0.3737 - accuracy: 0.7907\n",
      "Epoch 27/100\n",
      "750/750 [==============================] - 0s 86us/sample - loss: 0.3682 - accuracy: 0.7973\n",
      "Epoch 28/100\n",
      "750/750 [==============================] - 0s 84us/sample - loss: 0.3629 - accuracy: 0.8093\n",
      "Epoch 29/100\n",
      "750/750 [==============================] - 0s 71us/sample - loss: 0.3578 - accuracy: 0.8133\n",
      "Epoch 30/100\n",
      "750/750 [==============================] - 0s 77us/sample - loss: 0.3531 - accuracy: 0.8133\n",
      "Epoch 31/100\n",
      "750/750 [==============================] - 0s 68us/sample - loss: 0.3487 - accuracy: 0.8173\n",
      "Epoch 32/100\n",
      "750/750 [==============================] - 0s 71us/sample - loss: 0.3444 - accuracy: 0.8200\n",
      "Epoch 33/100\n",
      "750/750 [==============================] - 0s 72us/sample - loss: 0.3404 - accuracy: 0.8227\n",
      "Epoch 34/100\n",
      "750/750 [==============================] - 0s 67us/sample - loss: 0.3365 - accuracy: 0.8267\n",
      "Epoch 35/100\n",
      "750/750 [==============================] - 0s 72us/sample - loss: 0.3329 - accuracy: 0.8267\n",
      "Epoch 36/100\n",
      "750/750 [==============================] - 0s 78us/sample - loss: 0.3294 - accuracy: 0.8280\n",
      "Epoch 37/100\n",
      "750/750 [==============================] - 0s 77us/sample - loss: 0.3262 - accuracy: 0.8307\n",
      "Epoch 38/100\n",
      "750/750 [==============================] - 0s 72us/sample - loss: 0.3231 - accuracy: 0.8307\n",
      "Epoch 39/100\n",
      "750/750 [==============================] - 0s 72us/sample - loss: 0.3201 - accuracy: 0.8320\n",
      "Epoch 40/100\n",
      "750/750 [==============================] - 0s 78us/sample - loss: 0.3174 - accuracy: 0.8360\n",
      "Epoch 41/100\n",
      "750/750 [==============================] - 0s 71us/sample - loss: 0.3147 - accuracy: 0.8387\n",
      "Epoch 42/100\n",
      "750/750 [==============================] - 0s 71us/sample - loss: 0.3121 - accuracy: 0.8387\n",
      "Epoch 43/100\n",
      "750/750 [==============================] - 0s 78us/sample - loss: 0.3098 - accuracy: 0.8427\n",
      "Epoch 44/100\n",
      "750/750 [==============================] - 0s 68us/sample - loss: 0.3075 - accuracy: 0.8467\n",
      "Epoch 45/100\n",
      "750/750 [==============================] - 0s 77us/sample - loss: 0.3052 - accuracy: 0.8507\n",
      "Epoch 46/100\n",
      "750/750 [==============================] - 0s 73us/sample - loss: 0.3032 - accuracy: 0.8507\n",
      "Epoch 47/100\n",
      "750/750 [==============================] - 0s 71us/sample - loss: 0.3012 - accuracy: 0.8520\n",
      "Epoch 48/100\n",
      "750/750 [==============================] - 0s 72us/sample - loss: 0.2993 - accuracy: 0.8573\n",
      "Epoch 49/100\n",
      "750/750 [==============================] - 0s 67us/sample - loss: 0.2974 - accuracy: 0.8613\n",
      "Epoch 50/100\n",
      "750/750 [==============================] - 0s 73us/sample - loss: 0.2957 - accuracy: 0.8640\n",
      "Epoch 51/100\n",
      "750/750 [==============================] - 0s 71us/sample - loss: 0.2942 - accuracy: 0.8653\n",
      "Epoch 52/100\n",
      "750/750 [==============================] - 0s 81us/sample - loss: 0.2925 - accuracy: 0.8653\n",
      "Epoch 53/100\n",
      "750/750 [==============================] - 0s 77us/sample - loss: 0.2909 - accuracy: 0.8653\n",
      "Epoch 54/100\n",
      "750/750 [==============================] - 0s 69us/sample - loss: 0.2894 - accuracy: 0.8680\n",
      "Epoch 55/100\n",
      "750/750 [==============================] - 0s 72us/sample - loss: 0.2881 - accuracy: 0.8680\n",
      "Epoch 56/100\n",
      "750/750 [==============================] - 0s 67us/sample - loss: 0.2867 - accuracy: 0.8680\n",
      "Epoch 57/100\n",
      "750/750 [==============================] - 0s 62us/sample - loss: 0.2854 - accuracy: 0.8680\n",
      "Epoch 58/100\n",
      "750/750 [==============================] - 0s 64us/sample - loss: 0.2842 - accuracy: 0.8693\n",
      "Epoch 59/100\n",
      "750/750 [==============================] - 0s 69us/sample - loss: 0.2829 - accuracy: 0.8707\n",
      "Epoch 60/100\n",
      "750/750 [==============================] - 0s 64us/sample - loss: 0.2818 - accuracy: 0.8720\n",
      "Epoch 61/100\n",
      "750/750 [==============================] - 0s 66us/sample - loss: 0.2808 - accuracy: 0.8747\n",
      "Epoch 62/100\n",
      "750/750 [==============================] - 0s 72us/sample - loss: 0.2797 - accuracy: 0.8760\n",
      "Epoch 63/100\n",
      "750/750 [==============================] - 0s 68us/sample - loss: 0.2786 - accuracy: 0.8773\n",
      "Epoch 64/100\n",
      "750/750 [==============================] - 0s 67us/sample - loss: 0.2777 - accuracy: 0.8773\n",
      "Epoch 65/100\n",
      "750/750 [==============================] - 0s 71us/sample - loss: 0.2767 - accuracy: 0.8787\n",
      "Epoch 66/100\n",
      "750/750 [==============================] - 0s 68us/sample - loss: 0.2759 - accuracy: 0.8800\n",
      "Epoch 67/100\n",
      "750/750 [==============================] - 0s 72us/sample - loss: 0.2750 - accuracy: 0.8800\n",
      "Epoch 68/100\n",
      "750/750 [==============================] - 0s 68us/sample - loss: 0.2742 - accuracy: 0.8800\n",
      "Epoch 69/100\n",
      "750/750 [==============================] - 0s 68us/sample - loss: 0.2734 - accuracy: 0.8813\n",
      "Epoch 70/100\n",
      "750/750 [==============================] - 0s 68us/sample - loss: 0.2727 - accuracy: 0.8813\n",
      "Epoch 71/100\n",
      "750/750 [==============================] - 0s 65us/sample - loss: 0.2720 - accuracy: 0.8813\n",
      "Epoch 72/100\n",
      "750/750 [==============================] - 0s 68us/sample - loss: 0.2712 - accuracy: 0.8827\n",
      "Epoch 73/100\n",
      "750/750 [==============================] - 0s 65us/sample - loss: 0.2706 - accuracy: 0.8827\n",
      "Epoch 74/100\n",
      "750/750 [==============================] - 0s 64us/sample - loss: 0.2699 - accuracy: 0.8840\n",
      "Epoch 75/100\n",
      "750/750 [==============================] - 0s 66us/sample - loss: 0.2693 - accuracy: 0.8867\n",
      "Epoch 76/100\n",
      "750/750 [==============================] - 0s 67us/sample - loss: 0.2686 - accuracy: 0.8867\n",
      "Epoch 77/100\n",
      "750/750 [==============================] - 0s 64us/sample - loss: 0.2680 - accuracy: 0.8867\n",
      "Epoch 78/100\n"
     ]
    },
    {
     "name": "stdout",
     "output_type": "stream",
     "text": [
      "750/750 [==============================] - 0s 64us/sample - loss: 0.2675 - accuracy: 0.8880\n",
      "Epoch 79/100\n",
      "750/750 [==============================] - 0s 66us/sample - loss: 0.2670 - accuracy: 0.8867\n",
      "Epoch 80/100\n",
      "750/750 [==============================] - 0s 63us/sample - loss: 0.2665 - accuracy: 0.8867\n",
      "Epoch 81/100\n",
      "750/750 [==============================] - 0s 64us/sample - loss: 0.2659 - accuracy: 0.8867\n",
      "Epoch 82/100\n",
      "750/750 [==============================] - 0s 68us/sample - loss: 0.2655 - accuracy: 0.8853\n",
      "Epoch 83/100\n",
      "750/750 [==============================] - 0s 66us/sample - loss: 0.2650 - accuracy: 0.8853\n",
      "Epoch 84/100\n",
      "750/750 [==============================] - 0s 68us/sample - loss: 0.2646 - accuracy: 0.8853\n",
      "Epoch 85/100\n",
      "750/750 [==============================] - 0s 65us/sample - loss: 0.2641 - accuracy: 0.8853\n",
      "Epoch 86/100\n",
      "750/750 [==============================] - 0s 64us/sample - loss: 0.2637 - accuracy: 0.8853\n",
      "Epoch 87/100\n",
      "750/750 [==============================] - 0s 66us/sample - loss: 0.2633 - accuracy: 0.8867\n",
      "Epoch 88/100\n",
      "750/750 [==============================] - 0s 67us/sample - loss: 0.2629 - accuracy: 0.8867\n",
      "Epoch 89/100\n",
      "750/750 [==============================] - 0s 66us/sample - loss: 0.2625 - accuracy: 0.8867\n",
      "Epoch 90/100\n",
      "750/750 [==============================] - 0s 66us/sample - loss: 0.2621 - accuracy: 0.8867\n",
      "Epoch 91/100\n",
      "750/750 [==============================] - 0s 66us/sample - loss: 0.2618 - accuracy: 0.8867\n",
      "Epoch 92/100\n",
      "750/750 [==============================] - 0s 62us/sample - loss: 0.2614 - accuracy: 0.8893\n",
      "Epoch 93/100\n",
      "750/750 [==============================] - 0s 62us/sample - loss: 0.2611 - accuracy: 0.8893\n",
      "Epoch 94/100\n",
      "750/750 [==============================] - 0s 65us/sample - loss: 0.2608 - accuracy: 0.8880\n",
      "Epoch 95/100\n",
      "750/750 [==============================] - 0s 65us/sample - loss: 0.2605 - accuracy: 0.8893\n",
      "Epoch 96/100\n",
      "750/750 [==============================] - 0s 66us/sample - loss: 0.2602 - accuracy: 0.8893\n",
      "Epoch 97/100\n",
      "750/750 [==============================] - 0s 68us/sample - loss: 0.2599 - accuracy: 0.8893\n",
      "Epoch 98/100\n",
      "750/750 [==============================] - 0s 62us/sample - loss: 0.2596 - accuracy: 0.8893\n",
      "Epoch 99/100\n",
      "750/750 [==============================] - 0s 70us/sample - loss: 0.2593 - accuracy: 0.8893\n",
      "Epoch 100/100\n",
      "750/750 [==============================] - 0s 68us/sample - loss: 0.2591 - accuracy: 0.8893\n"
     ]
    }
   ],
   "source": [
    "# Training the model with the nonlinear data\n",
    "model_moon = nn_model.fit(X_moon_train_scaled, y_moon_train, epochs=100, shuffle=True)"
   ]
  },
  {
   "cell_type": "code",
   "execution_count": 18,
   "metadata": {},
   "outputs": [
    {
     "data": {
      "text/plain": [
       "<AxesSubplot:>"
      ]
     },
     "execution_count": 18,
     "metadata": {},
     "output_type": "execute_result"
    },
    {
     "data": {
      "image/png": "[encoded data removed]",
      "text/plain": [
       "<Figure size 432x288 with 1 Axes>"
      ]
     },
     "metadata": {
      "needs_background": "light"
     },
     "output_type": "display_data"
    }
   ],
   "source": [
    "# Create a DataFrame containing training history\n",
    "history_df = pd.DataFrame(model_moon.history, index=range(1,len(model_moon.history[\"loss\"])+1))\n",
    "\n",
    "# Plot the loss\n",
    "history_df.plot(y=\"loss\")"
   ]
  },
  {
   "cell_type": "code",
   "execution_count": 19,
   "metadata": {},
   "outputs": [
    {
     "data": {
      "text/plain": [
       "<AxesSubplot:>"
      ]
     },
     "execution_count": 19,
     "metadata": {},
     "output_type": "execute_result"
    },
    {
     "data": {
      "image/png": "[encoded data removed]",
      "text/plain": [
       "<Figure size 432x288 with 1 Axes>"
      ]
     },
     "metadata": {
      "needs_background": "light"
     },
     "output_type": "display_data"
    }
   ],
   "source": [
    "# Plot the loss\n",
    "history_df.plot(y=\"accuracy\")"
   ]
  },
  {
   "cell_type": "code",
   "execution_count": 20,
   "metadata": {},
   "outputs": [],
   "source": [
    "# Generate our new Sequential model\n",
    "new_model = tf.keras.models.Sequential()"
   ]
  },
  {
   "cell_type": "code",
   "execution_count": 21,
   "metadata": {},
   "outputs": [],
   "source": [
    "# Add the input and hidden layer\n",
    "number_inputs = 2\n",
    "number_hidden_nodes = 6\n",
    "\n",
    "new_model.add(tf.keras.layers.Dense(units=number_hidden_nodes, activation=\"relu\", input_dim=number_inputs))\n",
    "\n",
    "# Add the output layer that uses a probability activation function\n",
    "new_model.add(tf.keras.layers.Dense(units=1, activation=\"sigmoid\"))"
   ]
  },
  {
   "cell_type": "code",
   "execution_count": 22,
   "metadata": {},
   "outputs": [
    {
     "name": "stdout",
     "output_type": "stream",
     "text": [
      "Train on 750 samples\n",
      "Epoch 1/100\n",
      "750/750 [==============================] - 1s 1ms/sample - loss: 0.7179 - accuracy: 0.5400\n",
      "Epoch 2/100\n",
      "750/750 [==============================] - 0s 74us/sample - loss: 0.6591 - accuracy: 0.6107\n",
      "Epoch 3/100\n",
      "750/750 [==============================] - 0s 72us/sample - loss: 0.6094 - accuracy: 0.6760\n",
      "Epoch 4/100\n",
      "750/750 [==============================] - 0s 72us/sample - loss: 0.5667 - accuracy: 0.6920\n",
      "Epoch 5/100\n",
      "750/750 [==============================] - 0s 85us/sample - loss: 0.5303 - accuracy: 0.7360\n",
      "Epoch 6/100\n",
      "750/750 [==============================] - 0s 70us/sample - loss: 0.4988 - accuracy: 0.7987\n",
      "Epoch 7/100\n",
      "750/750 [==============================] - 0s 72us/sample - loss: 0.4716 - accuracy: 0.8373\n",
      "Epoch 8/100\n",
      "750/750 [==============================] - 0s 72us/sample - loss: 0.4485 - accuracy: 0.8493\n",
      "Epoch 9/100\n",
      "750/750 [==============================] - 0s 81us/sample - loss: 0.4279 - accuracy: 0.8507\n",
      "Epoch 10/100\n",
      "750/750 [==============================] - 0s 71us/sample - loss: 0.4104 - accuracy: 0.8507\n",
      "Epoch 11/100\n",
      "750/750 [==============================] - 0s 70us/sample - loss: 0.3948 - accuracy: 0.8507\n",
      "Epoch 12/100\n",
      "750/750 [==============================] - 0s 70us/sample - loss: 0.3814 - accuracy: 0.8507\n",
      "Epoch 13/100\n",
      "750/750 [==============================] - 0s 71us/sample - loss: 0.3694 - accuracy: 0.8533\n",
      "Epoch 14/100\n",
      "750/750 [==============================] - 0s 72us/sample - loss: 0.3588 - accuracy: 0.8547\n",
      "Epoch 15/100\n",
      "750/750 [==============================] - 0s 77us/sample - loss: 0.3496 - accuracy: 0.8560\n",
      "Epoch 16/100\n",
      "750/750 [==============================] - 0s 70us/sample - loss: 0.3411 - accuracy: 0.8573\n",
      "Epoch 17/100\n",
      "750/750 [==============================] - 0s 78us/sample - loss: 0.3338 - accuracy: 0.8587\n",
      "Epoch 18/100\n",
      "750/750 [==============================] - 0s 71us/sample - loss: 0.3270 - accuracy: 0.8587\n",
      "Epoch 19/100\n",
      "750/750 [==============================] - 0s 68us/sample - loss: 0.3209 - accuracy: 0.8587\n",
      "Epoch 20/100\n",
      "750/750 [==============================] - 0s 71us/sample - loss: 0.3153 - accuracy: 0.8627\n",
      "Epoch 21/100\n",
      "750/750 [==============================] - 0s 67us/sample - loss: 0.3100 - accuracy: 0.8627\n",
      "Epoch 22/100\n",
      "750/750 [==============================] - 0s 71us/sample - loss: 0.3053 - accuracy: 0.8653\n",
      "Epoch 23/100\n",
      "750/750 [==============================] - 0s 84us/sample - loss: 0.3010 - accuracy: 0.8693\n",
      "Epoch 24/100\n",
      "750/750 [==============================] - 0s 71us/sample - loss: 0.2970 - accuracy: 0.8707\n",
      "Epoch 25/100\n",
      "750/750 [==============================] - 0s 87us/sample - loss: 0.2933 - accuracy: 0.8720\n",
      "Epoch 26/100\n",
      "750/750 [==============================] - 0s 70us/sample - loss: 0.2898 - accuracy: 0.8733\n",
      "Epoch 27/100\n",
      "750/750 [==============================] - 0s 69us/sample - loss: 0.2865 - accuracy: 0.8760\n",
      "Epoch 28/100\n",
      "750/750 [==============================] - 0s 71us/sample - loss: 0.2835 - accuracy: 0.8773\n",
      "Epoch 29/100\n",
      "750/750 [==============================] - 0s 71us/sample - loss: 0.2807 - accuracy: 0.8787\n",
      "Epoch 30/100\n",
      "750/750 [==============================] - 0s 70us/sample - loss: 0.2780 - accuracy: 0.8800\n",
      "Epoch 31/100\n",
      "750/750 [==============================] - 0s 71us/sample - loss: 0.2756 - accuracy: 0.8827\n",
      "Epoch 32/100\n",
      "750/750 [==============================] - 0s 77us/sample - loss: 0.2732 - accuracy: 0.8827\n",
      "Epoch 33/100\n",
      "750/750 [==============================] - 0s 72us/sample - loss: 0.2710 - accuracy: 0.8827\n",
      "Epoch 34/100\n",
      "750/750 [==============================] - 0s 71us/sample - loss: 0.2689 - accuracy: 0.8840\n",
      "Epoch 35/100\n",
      "750/750 [==============================] - 0s 67us/sample - loss: 0.2669 - accuracy: 0.8867\n",
      "Epoch 36/100\n",
      "750/750 [==============================] - 0s 71us/sample - loss: 0.2650 - accuracy: 0.8880\n",
      "Epoch 37/100\n",
      "750/750 [==============================] - 0s 98us/sample - loss: 0.2631 - accuracy: 0.8880\n",
      "Epoch 38/100\n",
      "750/750 [==============================] - 0s 85us/sample - loss: 0.2613 - accuracy: 0.8880\n",
      "Epoch 39/100\n",
      "750/750 [==============================] - 0s 72us/sample - loss: 0.2597 - accuracy: 0.8880\n",
      "Epoch 40/100\n",
      "750/750 [==============================] - 0s 73us/sample - loss: 0.2581 - accuracy: 0.8880\n",
      "Epoch 41/100\n",
      "750/750 [==============================] - 0s 93us/sample - loss: 0.2567 - accuracy: 0.8907\n",
      "Epoch 42/100\n",
      "750/750 [==============================] - 0s 71us/sample - loss: 0.2553 - accuracy: 0.8920\n",
      "Epoch 43/100\n",
      "750/750 [==============================] - 0s 76us/sample - loss: 0.2539 - accuracy: 0.8907\n",
      "Epoch 44/100\n",
      "750/750 [==============================] - 0s 73us/sample - loss: 0.2526 - accuracy: 0.8907\n",
      "Epoch 45/100\n",
      "750/750 [==============================] - 0s 72us/sample - loss: 0.2515 - accuracy: 0.8907\n",
      "Epoch 46/100\n",
      "750/750 [==============================] - 0s 72us/sample - loss: 0.2504 - accuracy: 0.8907\n",
      "Epoch 47/100\n",
      "750/750 [==============================] - 0s 74us/sample - loss: 0.2494 - accuracy: 0.8907\n",
      "Epoch 48/100\n",
      "750/750 [==============================] - 0s 66us/sample - loss: 0.2484 - accuracy: 0.8920\n",
      "Epoch 49/100\n",
      "750/750 [==============================] - 0s 74us/sample - loss: 0.2475 - accuracy: 0.8920\n",
      "Epoch 50/100\n",
      "750/750 [==============================] - 0s 67us/sample - loss: 0.2466 - accuracy: 0.8920\n",
      "Epoch 51/100\n",
      "750/750 [==============================] - 0s 71us/sample - loss: 0.2457 - accuracy: 0.8920\n",
      "Epoch 52/100\n",
      "750/750 [==============================] - 0s 72us/sample - loss: 0.2449 - accuracy: 0.8933\n",
      "Epoch 53/100\n",
      "750/750 [==============================] - 0s 83us/sample - loss: 0.2441 - accuracy: 0.8933\n",
      "Epoch 54/100\n",
      "750/750 [==============================] - 0s 71us/sample - loss: 0.2433 - accuracy: 0.8933\n",
      "Epoch 55/100\n",
      "750/750 [==============================] - 0s 63us/sample - loss: 0.2426 - accuracy: 0.8933\n",
      "Epoch 56/100\n",
      "750/750 [==============================] - 0s 69us/sample - loss: 0.2420 - accuracy: 0.8933\n",
      "Epoch 57/100\n",
      "750/750 [==============================] - 0s 63us/sample - loss: 0.2412 - accuracy: 0.8933\n",
      "Epoch 58/100\n",
      "750/750 [==============================] - 0s 63us/sample - loss: 0.2406 - accuracy: 0.8920\n",
      "Epoch 59/100\n",
      "750/750 [==============================] - 0s 65us/sample - loss: 0.2400 - accuracy: 0.8920\n",
      "Epoch 60/100\n",
      "750/750 [==============================] - 0s 71us/sample - loss: 0.2394 - accuracy: 0.8920\n",
      "Epoch 61/100\n",
      "750/750 [==============================] - 0s 64us/sample - loss: 0.2389 - accuracy: 0.8920\n",
      "Epoch 62/100\n",
      "750/750 [==============================] - 0s 65us/sample - loss: 0.2384 - accuracy: 0.8920\n",
      "Epoch 63/100\n",
      "750/750 [==============================] - 0s 68us/sample - loss: 0.2378 - accuracy: 0.8920\n",
      "Epoch 64/100\n",
      "750/750 [==============================] - 0s 72us/sample - loss: 0.2375 - accuracy: 0.8920\n",
      "Epoch 65/100\n",
      "750/750 [==============================] - 0s 65us/sample - loss: 0.2370 - accuracy: 0.8920\n",
      "Epoch 66/100\n",
      "750/750 [==============================] - 0s 65us/sample - loss: 0.2366 - accuracy: 0.8920\n",
      "Epoch 67/100\n",
      "750/750 [==============================] - 0s 66us/sample - loss: 0.2361 - accuracy: 0.8920\n",
      "Epoch 68/100\n",
      "750/750 [==============================] - 0s 66us/sample - loss: 0.2357 - accuracy: 0.8920\n",
      "Epoch 69/100\n",
      "750/750 [==============================] - 0s 66us/sample - loss: 0.2352 - accuracy: 0.8920\n",
      "Epoch 70/100\n",
      "750/750 [==============================] - 0s 69us/sample - loss: 0.2350 - accuracy: 0.8933\n",
      "Epoch 71/100\n",
      "750/750 [==============================] - 0s 68us/sample - loss: 0.2345 - accuracy: 0.8933\n",
      "Epoch 72/100\n",
      "750/750 [==============================] - 0s 72us/sample - loss: 0.2341 - accuracy: 0.8933\n",
      "Epoch 73/100\n",
      "750/750 [==============================] - 0s 74us/sample - loss: 0.2338 - accuracy: 0.8933\n",
      "Epoch 74/100\n",
      "750/750 [==============================] - 0s 70us/sample - loss: 0.2336 - accuracy: 0.8933\n",
      "Epoch 75/100\n",
      "750/750 [==============================] - 0s 68us/sample - loss: 0.2330 - accuracy: 0.8933\n",
      "Epoch 76/100\n",
      "750/750 [==============================] - 0s 68us/sample - loss: 0.2327 - accuracy: 0.8933\n",
      "Epoch 77/100\n",
      "750/750 [==============================] - 0s 66us/sample - loss: 0.2324 - accuracy: 0.8933\n",
      "Epoch 78/100\n"
     ]
    },
    {
     "name": "stdout",
     "output_type": "stream",
     "text": [
      "750/750 [==============================] - 0s 66us/sample - loss: 0.2321 - accuracy: 0.8933\n",
      "Epoch 79/100\n",
      "750/750 [==============================] - 0s 69us/sample - loss: 0.2317 - accuracy: 0.8933\n",
      "Epoch 80/100\n",
      "750/750 [==============================] - 0s 64us/sample - loss: 0.2314 - accuracy: 0.8947\n",
      "Epoch 81/100\n",
      "750/750 [==============================] - 0s 62us/sample - loss: 0.2311 - accuracy: 0.8947\n",
      "Epoch 82/100\n",
      "750/750 [==============================] - 0s 66us/sample - loss: 0.2308 - accuracy: 0.8947\n",
      "Epoch 83/100\n",
      "750/750 [==============================] - 0s 67us/sample - loss: 0.2305 - accuracy: 0.8947\n",
      "Epoch 84/100\n",
      "750/750 [==============================] - 0s 68us/sample - loss: 0.2302 - accuracy: 0.8947\n",
      "Epoch 85/100\n",
      "750/750 [==============================] - 0s 67us/sample - loss: 0.2299 - accuracy: 0.8947\n",
      "Epoch 86/100\n",
      "750/750 [==============================] - 0s 66us/sample - loss: 0.2296 - accuracy: 0.8960\n",
      "Epoch 87/100\n",
      "750/750 [==============================] - 0s 64us/sample - loss: 0.2292 - accuracy: 0.8960\n",
      "Epoch 88/100\n",
      "750/750 [==============================] - 0s 67us/sample - loss: 0.2292 - accuracy: 0.8960\n",
      "Epoch 89/100\n",
      "750/750 [==============================] - 0s 76us/sample - loss: 0.2286 - accuracy: 0.8960\n",
      "Epoch 90/100\n",
      "750/750 [==============================] - 0s 75us/sample - loss: 0.2284 - accuracy: 0.8973\n",
      "Epoch 91/100\n",
      "750/750 [==============================] - 0s 71us/sample - loss: 0.2282 - accuracy: 0.8973\n",
      "Epoch 92/100\n",
      "750/750 [==============================] - 0s 69us/sample - loss: 0.2278 - accuracy: 0.8973\n",
      "Epoch 93/100\n",
      "750/750 [==============================] - 0s 78us/sample - loss: 0.2276 - accuracy: 0.8973\n",
      "Epoch 94/100\n",
      "750/750 [==============================] - 0s 72us/sample - loss: 0.2274 - accuracy: 0.8987\n",
      "Epoch 95/100\n",
      "750/750 [==============================] - 0s 72us/sample - loss: 0.2271 - accuracy: 0.8987\n",
      "Epoch 96/100\n",
      "750/750 [==============================] - 0s 75us/sample - loss: 0.2268 - accuracy: 0.8987\n",
      "Epoch 97/100\n",
      "750/750 [==============================] - 0s 71us/sample - loss: 0.2266 - accuracy: 0.8987\n",
      "Epoch 98/100\n",
      "750/750 [==============================] - 0s 69us/sample - loss: 0.2264 - accuracy: 0.8987\n",
      "Epoch 99/100\n",
      "750/750 [==============================] - 0s 79us/sample - loss: 0.2261 - accuracy: 0.8987\n",
      "Epoch 100/100\n",
      "750/750 [==============================] - 0s 69us/sample - loss: 0.2258 - accuracy: 0.8987\n"
     ]
    }
   ],
   "source": [
    "# Compile the Sequential model together and customize metrics\n",
    "new_model.compile(loss=\"binary_crossentropy\", optimizer=\"adam\", metrics=[\"accuracy\"])\n",
    "\n",
    "# Fit the model to the training data\n",
    "new_fit_model = new_model.fit(X_moon_train_scaled, y_moon_train, epochs=100, shuffle=True)"
   ]
  },
  {
   "cell_type": "code",
   "execution_count": null,
   "metadata": {},
   "outputs": [],
   "source": []
  }
 ],
 "metadata": {
  "kernelspec": {
   "display_name": "Python 3",
   "language": "python",
   "name": "python3"
  },
  "language_info": {
   "codemirror_mode": {
    "name": "ipython",
    "version": 3
   },
   "file_extension": ".py",
   "mimetype": "text/x-python",
   "name": "python",
   "nbconvert_exporter": "python",
   "pygments_lexer": "ipython3",
   "version": "3.7.9"
  }
 },
 "nbformat": 4,
 "nbformat_minor": 4
}
